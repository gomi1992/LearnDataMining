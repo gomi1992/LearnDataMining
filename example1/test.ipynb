{
 "cells": [
  {
   "cell_type": "code",
   "execution_count": 17,
   "metadata": {
    "collapsed": true
   },
   "outputs": [],
   "source": [
    "import pandas as pd\n",
    "import numpy as np\n",
    "import matplotlib.pyplot as plt\n",
    "import functools\n",
    "import itertools\n",
    "%matplotlib inline"
   ]
  },
  {
   "cell_type": "code",
   "execution_count": 18,
   "metadata": {
    "collapsed": false
   },
   "outputs": [],
   "source": [
    "df = pd.read_csv('data.csv')"
   ]
  },
  {
   "cell_type": "code",
   "execution_count": 19,
   "metadata": {
    "collapsed": false
   },
   "outputs": [],
   "source": [
    "df = df.dropna(axis=1,how='all')\n",
    "df = df.drop_duplicates()"
   ]
  },
  {
   "cell_type": "code",
   "execution_count": 20,
   "metadata": {
    "collapsed": false
   },
   "outputs": [],
   "source": [
    "def clear(x):\n",
    "    return str(x).strip()\n",
    "df['品牌'] = df['品牌'].apply(clear)"
   ]
  },
  {
   "cell_type": "code",
   "execution_count": 21,
   "metadata": {
    "collapsed": false
   },
   "outputs": [],
   "source": [
    "def clear(x):\n",
    "    if x.find('-') > 0:\n",
    "        tmp = x.split('-')\n",
    "        return float(tmp[1])\n",
    "    else:\n",
    "        return float(x)\n",
    "df['价格'] = df['价格'].apply(clear)\n",
    "# df['价格']"
   ]
  },
  {
   "cell_type": "code",
   "execution_count": 23,
   "metadata": {
    "collapsed": true
   },
   "outputs": [],
   "source": [
    "# tuples = list(zip(df['品牌'],df['型号']))\n",
    "tuples = list(zip(*[df['品牌'],df['型号']]))\n",
    "index = pd.MultiIndex.from_tuples(tuples,names=['品牌','型号'])"
   ]
  },
  {
   "cell_type": "code",
   "execution_count": 24,
   "metadata": {
    "collapsed": false
   },
   "outputs": [],
   "source": [
    "df1 = df.drop(['品牌','型号'],axis=1)\n",
    "df1.set_index(index,inplace=True)"
   ]
  },
  {
   "cell_type": "code",
   "execution_count": 27,
   "metadata": {
    "collapsed": false
   },
   "outputs": [
    {
     "data": {
      "text/plain": [
       "颜色        9\n",
       "系统        9\n",
       "价格        9\n",
       "月成交纪录     9\n",
       "手机类型      9\n",
       "电池类型      9\n",
       "核心数       9\n",
       "电池容量      8\n",
       "机身款式      5\n",
       "键盘类型      9\n",
       "厚度        8\n",
       "后置摄像头     5\n",
       "摄像头类型     9\n",
       "视频显示格式    8\n",
       "机身内存      9\n",
       "运行内存      9\n",
       "尺寸        9\n",
       "触屏类型      9\n",
       "分辨率       9\n",
       "收藏人气      9\n",
       "dtype: int64"
      ]
     },
     "execution_count": 27,
     "metadata": {},
     "output_type": "execute_result"
    }
   ],
   "source": [
    "# df1.ix['Apple/苹果']"
   ]
  },
  {
   "cell_type": "code",
   "execution_count": 26,
   "metadata": {
    "collapsed": false
   },
   "outputs": [],
   "source": [
    "# df1.sum(axis=0,level=0)"
   ]
  },
  {
   "cell_type": "code",
   "execution_count": 29,
   "metadata": {
    "collapsed": false
   },
   "outputs": [
    {
     "data": {
      "text/plain": [
       "Index(['颜色', '系统', '价格', '月成交纪录', '手机类型', '电池类型', '核心数', '电池容量', '机身款式',\n",
       "       '键盘类型', '厚度', '后置摄像头', '摄像头类型', '视频显示格式', '机身内存', '运行内存', '尺寸', '触屏类型',\n",
       "       '分辨率', '收藏人气'],\n",
       "      dtype='object')"
      ]
     },
     "execution_count": 29,
     "metadata": {},
     "output_type": "execute_result"
    }
   ],
   "source": [
    "df1.columns"
   ]
  }
 ],
 "metadata": {
  "kernelspec": {
   "display_name": "Python 3",
   "language": "python",
   "name": "python3"
  },
  "language_info": {
   "codemirror_mode": {
    "name": "ipython",
    "version": 3
   },
   "file_extension": ".py",
   "mimetype": "text/x-python",
   "name": "python",
   "nbconvert_exporter": "python",
   "pygments_lexer": "ipython3",
   "version": "3.5.1"
  }
 },
 "nbformat": 4,
 "nbformat_minor": 0
}
