{
 "cells": [
  {
   "cell_type": "code",
   "execution_count": 1,
   "metadata": {
    "collapsed": true
   },
   "outputs": [],
   "source": [
    "import numpy as np\n",
    "import time\n",
    "import matplotlib.pyplot as plt\n",
    "%matplotlib inline"
   ]
  },
  {
   "cell_type": "code",
   "execution_count": 2,
   "metadata": {
    "collapsed": true
   },
   "outputs": [],
   "source": [
    "# calculate Euclidean distance\n",
    "def euclDistance(vector1, vector2):\n",
    "    return np.sqrt(np.sum(np.power(vector2 - vector1, 2)))#sqrt( (x1-x2)^2+(y1-y2)^2 )"
   ]
  },
  {
   "cell_type": "code",
   "execution_count": 3,
   "metadata": {
    "collapsed": true
   },
   "outputs": [],
   "source": [
    "# init centroids with random samples\n",
    "def initCentroids(dataSet, k):\n",
    "    numSamples, dim = dataSet.shape\n",
    "    centroids = np.zeros((k, dim))\n",
    "    for i in range(k):\n",
    "        index = int(np.random.uniform(0, numSamples))\n",
    "        centroids[i, :] = dataSet[index, :]\n",
    "    return centroids"
   ]
  },
  {
   "cell_type": "code",
   "execution_count": 4,
   "metadata": {
    "collapsed": true
   },
   "outputs": [],
   "source": [
    "# k-means cluster\n",
    "def kmeans(dataSet, k):\n",
    "    numSamples = dataSet.shape[0]\n",
    "    # first column stores which cluster this sample belongs to,\n",
    "    # second column stores the error between this sample and its centroid\n",
    "    clusterAssment = np.mat(np.zeros((numSamples, 2)))\n",
    "    clusterChanged = True\n",
    "\n",
    "    ## step 1: init centroids\n",
    "    centroids = initCentroids(dataSet, k)\n",
    "\n",
    "    while clusterChanged:\n",
    "        clusterChanged = False\n",
    "        ## for each sample\n",
    "        for i in range(numSamples):\n",
    "            minDist = 100000.0\n",
    "            minIndex = 0\n",
    "            ## for each centroid\n",
    "            ## step 2: find the centroid who is closest\n",
    "            for j in range(k):\n",
    "                distance = euclDistance(centroids[j, :], dataSet[i, :])\n",
    "                if distance < minDist:\n",
    "                    minDist = distance\n",
    "                    minIndex = j\n",
    "\n",
    "            ## step 3: update its cluster\n",
    "            if clusterAssment[i, 0] != minIndex:\n",
    "                clusterChanged = True\n",
    "                clusterAssment[i, :] = minIndex, minDist ** 2\n",
    "\n",
    "        ## step 4: update centroids\n",
    "        for j in range(k):\n",
    "            pointsInCluster = dataSet[np.nonzero(clusterAssment[:, 0].A == j)[0]]\n",
    "            centroids[j, :] = np.mean(pointsInCluster, axis=0)\n",
    "\n",
    "    print('Congratulations, cluster complete!')\n",
    "    return centroids, clusterAssment"
   ]
  },
  {
   "cell_type": "code",
   "execution_count": 5,
   "metadata": {
    "collapsed": true
   },
   "outputs": [],
   "source": [
    "# show your cluster only available with 2-D data\n",
    "def showCluster(dataSet, k, centroids, clusterAssment):\n",
    "    numSamples, dim = dataSet.shape\n",
    "    if dim != 2:\n",
    "        print(\"Sorry! I can not draw because the dimension of your data is not 2!\")\n",
    "        return 1\n",
    "\n",
    "    mark = ['or', 'ob', 'og', 'ok', '^r', '+r', 'sr', 'dr', '<r', 'pr']\n",
    "    if k > len(mark):\n",
    "        print(\"Sorry! Your k is too large! please contact Zouxy\")\n",
    "        return 1\n",
    "\n",
    "    # draw all samples\n",
    "    for i in range(numSamples):\n",
    "        markIndex = int(clusterAssment[i, 0])\n",
    "        plt.plot(dataSet[i, 0], dataSet[i, 1], mark[markIndex])\n",
    "\n",
    "    mark = ['Dr', 'Db', 'Dg', 'Dk', '^b', '+b', 'sb', 'db', '<b', 'pb']\n",
    "    # draw the centroids\n",
    "    for i in range(k):\n",
    "        plt.plot(centroids[i, 0], centroids[i, 1], mark[i], markersize=12)\n",
    "\n",
    "    plt.show()"
   ]
  },
  {
   "cell_type": "code",
   "execution_count": 6,
   "metadata": {
    "collapsed": false
   },
   "outputs": [
    {
     "name": "stdout",
     "output_type": "stream",
     "text": [
      "step 1: load data...\n",
      "step 2: clustering...\n",
      "Congratulations, cluster complete!\n",
      "step 3: show the result...\n"
     ]
    },
    {
     "data": {
      "image/png": "[encoded data removed]",
      "text/plain": [
       "<matplotlib.figure.Figure at 0x7f4c9f1e46d8>"
      ]
     },
     "metadata": {},
     "output_type": "display_data"
    }
   ],
   "source": [
    "## step 1: load data\n",
    "print(\"step 1: load data...\")\n",
    "dataSet = []\n",
    "fileIn = open('testSet.txt')\n",
    "for line in fileIn.readlines():\n",
    "    lineArr = line.strip().split('\\t')\n",
    "    dataSet.append([float(lineArr[0]), float(lineArr[1])])\n",
    "\n",
    "## step 2: clustering...\n",
    "print(\"step 2: clustering...\")\n",
    "dataSet = np.mat(dataSet)\n",
    "k = 4\n",
    "centroids, clusterAssment = kmeans(dataSet, k)\n",
    "\n",
    "## step 3: show the result\n",
    "print(\"step 3: show the result...\")\n",
    "showCluster(dataSet, k, centroids, clusterAssment)"
   ]
  }
 ],
 "metadata": {
  "kernelspec": {
   "display_name": "Python 3",
   "language": "python",
   "name": "python3"
  },
  "language_info": {
   "codemirror_mode": {
    "name": "ipython",
    "version": 3
   },
   "file_extension": ".py",
   "mimetype": "text/x-python",
   "name": "python",
   "nbconvert_exporter": "python",
   "pygments_lexer": "ipython3",
   "version": "3.5.1"
  }
 },
 "nbformat": 4,
 "nbformat_minor": 0
}
